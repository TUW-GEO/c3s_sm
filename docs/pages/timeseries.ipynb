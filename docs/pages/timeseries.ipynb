{
 "cells": [
  {
   "cell_type": "markdown",
   "source": [
    "# Conversion to time series\n",
    "\n",
    "## c3s_sm reshuffle\n",
    "\n",
    "By using the readers described in [the previous chapter](#With-c3s_sm.interface), the program `c3s_sm reshuffle` converts images in a directory into a time series format for performant reading (https://github.com/TUW-GEO/pynetcf).\n",
    "\n",
    "This package provides a command line tool `c3s_sm reshuffle` for this purpose. e.g the following\n",
    "command will take all images for the year 2020 in the give image directory and store soil moisture data in the bounding box from 5-15 °E and 47-55 °N as time series in the chosen output path.\n",
    "\n",
    "```\n",
    "c3s_sm reshuffle /path/to/images /output/path -s 2019-10-01 -e 2020-01-31 -p sm --bbox 5 47 15 55\n",
    "```\n",
    "\n",
    "The same cane be done via the python API"
   ],
   "metadata": {
    "collapsed": false
   },
   "id": "42c31dcfd1489a4d"
  },
  {
   "cell_type": "code",
   "outputs": [],
   "source": [
    "%%capture\n",
    "from c3s_sm.reshuffle import img2ts\n",
    "from tempfile import mkdtemp\n",
    "\n",
    "in_path = '../../tests/c3s_sm-test-data/img/TCDR/061_monthlyImages/combined'\n",
    "out_path = mkdtemp()\n",
    "\n",
    "img2ts(in_path, out_path, startdate='2016-04-01', enddate='2016-06-30', bbox=[5, 47, 15, 55])\n"
   ],
   "metadata": {
    "collapsed": false,
    "ExecuteTime": {
     "end_time": "2024-06-28T12:42:20.635427Z",
     "start_time": "2024-06-28T12:42:20.227328Z"
    }
   },
   "id": "7150a4ab7e1d266e",
   "execution_count": 18
  },
  {
   "cell_type": "markdown",
   "source": [
    "Afterwards we can use the time series reader class and read the data at one of the converted locations (if we pass a coordinate pair, the nearest grid cell is used). Note that for this example we only used 3 (monthly) test data images."
   ],
   "metadata": {
    "collapsed": false
   },
   "id": "4eb928c26ab2b86a"
  },
  {
   "cell_type": "code",
   "outputs": [
    {
     "data": {
      "text/plain": "            nobs  sensor  freqbandID        sm\n2016-04-01    30     512           2  0.298179\n2016-05-01    31     768           2  0.267991\n2016-06-01    30     768           2  0.292918",
      "text/html": "<div>\n<style scoped>\n    .dataframe tbody tr th:only-of-type {\n        vertical-align: middle;\n    }\n\n    .dataframe tbody tr th {\n        vertical-align: top;\n    }\n\n    .dataframe thead th {\n        text-align: right;\n    }\n</style>\n<table border=\"1\" class=\"dataframe\">\n  <thead>\n    <tr style=\"text-align: right;\">\n      <th></th>\n      <th>nobs</th>\n      <th>sensor</th>\n      <th>freqbandID</th>\n      <th>sm</th>\n    </tr>\n  </thead>\n  <tbody>\n    <tr>\n      <th>2016-04-01</th>\n      <td>30</td>\n      <td>512</td>\n      <td>2</td>\n      <td>0.298179</td>\n    </tr>\n    <tr>\n      <th>2016-05-01</th>\n      <td>31</td>\n      <td>768</td>\n      <td>2</td>\n      <td>0.267991</td>\n    </tr>\n    <tr>\n      <th>2016-06-01</th>\n      <td>30</td>\n      <td>768</td>\n      <td>2</td>\n      <td>0.292918</td>\n    </tr>\n  </tbody>\n</table>\n</div>"
     },
     "execution_count": 19,
     "metadata": {},
     "output_type": "execute_result"
    }
   ],
   "source": [
    "from c3s_sm.interface import C3STs\n",
    "reader = C3STs(out_path, ioclass_kws={'read_bulk': True})\n",
    "ts = reader.read(9, 49)\n",
    "ts"
   ],
   "metadata": {
    "collapsed": false,
    "ExecuteTime": {
     "end_time": "2024-06-28T12:42:24.999542Z",
     "start_time": "2024-06-28T12:42:24.980797Z"
    }
   },
   "id": "765720e58ae05810",
   "execution_count": 19
  },
  {
   "cell_type": "code",
   "outputs": [],
   "source": [],
   "metadata": {
    "collapsed": false
   },
   "id": "72449c729ea8affe"
  }
 ],
 "metadata": {
  "kernelspec": {
   "display_name": "Python 3",
   "language": "python",
   "name": "python3"
  },
  "language_info": {
   "codemirror_mode": {
    "name": "ipython",
    "version": 2
   },
   "file_extension": ".py",
   "mimetype": "text/x-python",
   "name": "python",
   "nbconvert_exporter": "python",
   "pygments_lexer": "ipython2",
   "version": "2.7.6"
  }
 },
 "nbformat": 4,
 "nbformat_minor": 5
}
